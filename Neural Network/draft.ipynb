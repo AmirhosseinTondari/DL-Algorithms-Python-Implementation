{
 "cells": [
  {
   "cell_type": "code",
   "execution_count": 1,
   "id": "5a397078",
   "metadata": {},
   "outputs": [],
   "source": [
    "import numpy as np\n",
    "from beartype import beartype"
   ]
  },
  {
   "cell_type": "code",
   "execution_count": 36,
   "id": "be3a4812",
   "metadata": {},
   "outputs": [],
   "source": [
    "class activation():  # use inheritance and subclassing next time\n",
    "    @beartype\n",
    "    def __init__(self, func: str = \"linear\"):\n",
    "        if func not in ['linear', 'sigmoid', 'relu']: \n",
    "            raise ValueError(\"ERR: func should be one of [linear, sigmoid, relu]\")\n",
    "        else:\n",
    "            self.func = func\n",
    "    \n",
    "    def cal(self, z):\n",
    "        if self.func == \"linear\":\n",
    "            return z\n",
    "        \n",
    "        elif self.func == \"sigmoid\":\n",
    "            return 1/(1 + np.exp(-z))\n",
    "        \n",
    "        elif self.func == \"relu\":\n",
    "            return np.where(z>0, z, 0)\n",
    "            \n",
    "    def der(self, z):\n",
    "        if self.func == \"linear\":\n",
    "            return 1\n",
    "        \n",
    "        elif self.func == \"sigmoid\":\n",
    "            g = 1/(1 + np.exp(-z))\n",
    "            return g(1-g)\n",
    "        \n",
    "        elif self.func == \"relu\":\n",
    "            return 1 if z>0 else 0\n",
    "        \n",
    "class costFunc():\n",
    "    @beartype\n",
    "    def __init__(self, func: str = \"MSE\"):\n",
    "        if func not in [\"MSE\", \"BCE\"]:\n",
    "            raise ValueError(\"ERR: func should be one of [MSE, BCE]\")\n",
    "        else:\n",
    "            self.func = func\n",
    "            \n",
    "    def cal(self, y, y_hat):\n",
    "        if self.func == \"MSE\":\n",
    "            return np.sum((y_hat - y)**2)/(2*len(y))\n",
    "        \n",
    "        elif self.func == \"BCE\":\n",
    "            return -np.sum(y*(np.log(y_hat)) + (1-y)*(np.log(1-y_hat)))/len(y)\n",
    "        \n",
    "    def der(self, y, y_hat):\n",
    "        if self.func == \"MSE\":\n",
    "            return y_hat - y\n",
    "        \n",
    "        elif self.func == \"BCE\":\n",
    "            return (1-y)/(1-y_hat) - (y/y_hat)\n",
    "        "
   ]
  },
  {
   "cell_type": "code",
   "execution_count": 27,
   "id": "55ec2d47",
   "metadata": {},
   "outputs": [],
   "source": [
    "class neuralNetwork():\n",
    "    @beartype\n",
    "    def __init__(self, inputFeatCount: int, architecture: list[tuple[int, str]], costType: str = \"MSE\"):\n",
    "        self.architecture = architecture\n",
    "        self.inputFeatCount = inputFeatCount\n",
    "        self.W, self.b = self.weightInit()\n",
    "        self.cost = costFunc(costType)\n",
    "    \n",
    "    def weightInit(self):\n",
    "        W = []\n",
    "        b = []\n",
    "        n = self.inputFeatCount\n",
    "        for (lSize, _) in self.architecture:\n",
    "            W.append(np.random.rand(lSize, n)/100)\n",
    "            b.append(np.random.rand(lSize, 1)/100)\n",
    "            n = lSize\n",
    "        return W, b\n",
    "    \n",
    "    def forwardPass(self, X):\n",
    "        A = X.T\n",
    "        Z_cache = []\n",
    "        for l, (lSize, act) in enumerate(self.architecture):\n",
    "            Z = self.W[l] @ A + self.b[l]\n",
    "            A = activation(act).cal(Z)\n",
    "            Z_cache.append(Z.T)\n",
    "        return A.T, Z_cache\n",
    "    \n",
    "    def backwardPass(self, y, y_hat, Z_cache):\n",
    "        self.dW = []\n",
    "        dA = self.cost.der(y, y_hat)\n",
    "        for i, (lSize, act) in list(enumerate(self.architecture))[::-1]:\n",
    "            dZ = dA * activation(act).cal(Z_cache[i])\n",
    "            self.dW.append(##########)\n",
    "    \n",
    "    def train(self, X, y, batch_size = 32):\n",
    "        y_hat, Z_cache = self.forwardPass(X)"
   ]
  },
  {
   "cell_type": "code",
   "execution_count": 37,
   "id": "55ea8198",
   "metadata": {},
   "outputs": [],
   "source": [
    "model = neuralNetwork(5, [(3, \"relu\"), (5, \"relu\"), (1, \"sigmoid\")])"
   ]
  },
  {
   "cell_type": "code",
   "execution_count": 38,
   "id": "b870571d",
   "metadata": {},
   "outputs": [],
   "source": [
    "X = np.random.randint(0, 10, (32, 5))"
   ]
  },
  {
   "cell_type": "code",
   "execution_count": 39,
   "id": "126c527f",
   "metadata": {},
   "outputs": [],
   "source": [
    "a = np.random.randint(-5, 5, (32, 5))"
   ]
  },
  {
   "cell_type": "code",
   "execution_count": 42,
   "id": "147c74f6",
   "metadata": {},
   "outputs": [
    {
     "data": {
      "text/plain": [
       "(32, 1)"
      ]
     },
     "execution_count": 42,
     "metadata": {},
     "output_type": "execute_result"
    }
   ],
   "source": [
    "model.forwardPass(a)[1][-1].shape"
   ]
  },
  {
   "cell_type": "code",
   "execution_count": 70,
   "id": "1a85560e",
   "metadata": {},
   "outputs": [
    {
     "data": {
      "text/plain": [
       "9.210340371976182"
      ]
     },
     "execution_count": 70,
     "metadata": {},
     "output_type": "execute_result"
    }
   ],
   "source": [
    "y = np.ones((32, 1))\n",
    "y_hat = np.zeros((32, 1)) + 0.0001\n",
    "cost = costFunc(\"BCE\")\n",
    "cost.cal(y, y_hat)"
   ]
  },
  {
   "cell_type": "code",
   "execution_count": 69,
   "id": "c65b789f",
   "metadata": {},
   "outputs": [
    {
     "data": {
      "text/plain": [
       "32"
      ]
     },
     "execution_count": 69,
     "metadata": {},
     "output_type": "execute_result"
    }
   ],
   "source": [
    "len(y)"
   ]
  },
  {
   "cell_type": "code",
   "execution_count": 71,
   "id": "6fc1b952",
   "metadata": {},
   "outputs": [
    {
     "data": {
      "text/plain": [
       "1.25"
      ]
     },
     "execution_count": 71,
     "metadata": {},
     "output_type": "execute_result"
    }
   ],
   "source": [
    "5/2/2"
   ]
  },
  {
   "cell_type": "code",
   "execution_count": 4,
   "id": "bd95cb11",
   "metadata": {},
   "outputs": [],
   "source": [
    "l = [1,2,3]"
   ]
  },
  {
   "cell_type": "code",
   "execution_count": 14,
   "id": "2782c32f",
   "metadata": {},
   "outputs": [
    {
     "name": "stdout",
     "output_type": "stream",
     "text": [
      "2 3\n",
      "1 2\n",
      "0 1\n"
     ]
    }
   ],
   "source": [
    "for i, a in list(enumerate(l))[::-1]:\n",
    "    print(i, a)"
   ]
  },
  {
   "cell_type": "code",
   "execution_count": 13,
   "id": "e102ffd2",
   "metadata": {},
   "outputs": [
    {
     "data": {
      "text/plain": [
       "<function list.reverse()>"
      ]
     },
     "execution_count": 13,
     "metadata": {},
     "output_type": "execute_result"
    }
   ],
   "source": [
    "list(enumerate(l)).reverse"
   ]
  },
  {
   "cell_type": "code",
   "execution_count": 32,
   "id": "d5216675",
   "metadata": {},
   "outputs": [
    {
     "data": {
      "text/plain": [
       "[1, 2, 3]"
      ]
     },
     "execution_count": 32,
     "metadata": {},
     "output_type": "execute_result"
    }
   ],
   "source": [
    "l"
   ]
  },
  {
   "cell_type": "code",
   "execution_count": 34,
   "id": "a2936f6c",
   "metadata": {},
   "outputs": [],
   "source": [
    "l.reverse()"
   ]
  },
  {
   "cell_type": "code",
   "execution_count": 35,
   "id": "dacfce79",
   "metadata": {},
   "outputs": [
    {
     "data": {
      "text/plain": [
       "[3, 2, 1]"
      ]
     },
     "execution_count": 35,
     "metadata": {},
     "output_type": "execute_result"
    }
   ],
   "source": [
    "l"
   ]
  },
  {
   "cell_type": "code",
   "execution_count": null,
   "id": "67f841c7",
   "metadata": {},
   "outputs": [],
   "source": []
  }
 ],
 "metadata": {
  "kernelspec": {
   "display_name": "Python 3 (ipykernel)",
   "language": "python",
   "name": "python3"
  },
  "language_info": {
   "codemirror_mode": {
    "name": "ipython",
    "version": 3
   },
   "file_extension": ".py",
   "mimetype": "text/x-python",
   "name": "python",
   "nbconvert_exporter": "python",
   "pygments_lexer": "ipython3",
   "version": "3.10.11"
  }
 },
 "nbformat": 4,
 "nbformat_minor": 5
}
